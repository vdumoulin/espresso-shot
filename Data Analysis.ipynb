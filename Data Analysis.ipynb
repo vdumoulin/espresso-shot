{
 "cells": [
  {
   "cell_type": "markdown",
   "metadata": {},
   "source": [
    "# Espresso Shot Data Analysis"
   ]
  },
  {
   "cell_type": "markdown",
   "metadata": {},
   "source": [
    "## Imports"
   ]
  },
  {
   "cell_type": "code",
   "execution_count": null,
   "metadata": {},
   "outputs": [],
   "source": [
    "import datetime\n",
    "import glob\n",
    "import io\n",
    "import json\n",
    "import time\n",
    "\n",
    "from ipywidgets import widgets\n",
    "import numpy as np\n",
    "import matplotlib.pyplot as plt\n",
    "import pandas as pd\n",
    "import pytz\n",
    "import seaborn as sns\n",
    "\n",
    "%matplotlib widget"
   ]
  },
  {
   "cell_type": "markdown",
   "metadata": {},
   "source": [
    "## Data loading"
   ]
  },
  {
   "cell_type": "code",
   "execution_count": null,
   "metadata": {},
   "outputs": [],
   "source": [
    "df_list = []\n",
    "for file_path in glob.glob('data/*.json'):\n",
    "  with open(file_path, 'r') as f:\n",
    "    data = json.load(f)\n",
    "  df_list.append(pd.DataFrame({\n",
    "      'Time (s)': data['time'] + data['time'],\n",
    "      'Temperature (°C)': data['basket_temperature'] + data['group_temperature'],\n",
    "      'Location': ['Puck'] * len(data['time']) + ['Group'] * len(data['time']),\n",
    "      'Date': datetime.datetime.fromtimestamp(\n",
    "          data['posix time']\n",
    "      ).astimezone(\n",
    "          pytz.timezone('US/Eastern')\n",
    "      ).isoformat(' ', timespec='seconds')\n",
    "  }))\n",
    "df = pd.concat(df_list)\n",
    "\n",
    "available_data = sorted(list(set(df['Date'])))\n",
    "selected_data = widgets.SelectMultiple(\n",
    "    options=available_data,\n",
    "    value=available_data[:1],\n",
    "    description='Data:',\n",
    "    disabled=False\n",
    ")\n",
    "\n",
    "display(selected_data)"
   ]
  },
  {
   "cell_type": "markdown",
   "metadata": {},
   "source": [
    "## Data plotting"
   ]
  },
  {
   "cell_type": "code",
   "execution_count": null,
   "metadata": {},
   "outputs": [],
   "source": [
    "data = df.copy().sort_values('Date')\n",
    "\n",
    "# Discretize time to the nearest integer to get a set of temperature\n",
    "# measurements over the span of every second. This allows us to compute\n",
    "# 95% confidence intervals over these values.\n",
    "data['Time (s)'] = data['Time (s)'].apply(np.around)\n",
    "\n",
    "fig, ax = plt.subplots()\n",
    "line = sns.lineplot(\n",
    "    ax=ax,\n",
    "    data=data[data['Date'].isin(selected_data.value)],\n",
    "    x='Time (s)',\n",
    "    y='Temperature (°C)',\n",
    "    hue='Date',\n",
    "    style='Location',\n",
    "    ci=95)\n",
    "fig.show()"
   ]
  }
 ],
 "metadata": {
  "kernelspec": {
   "display_name": "Python 3",
   "language": "python",
   "name": "python3"
  },
  "language_info": {
   "codemirror_mode": {
    "name": "ipython",
    "version": 3
   },
   "file_extension": ".py",
   "mimetype": "text/x-python",
   "name": "python",
   "nbconvert_exporter": "python",
   "pygments_lexer": "ipython3",
   "version": "3.6.12"
  }
 },
 "nbformat": 4,
 "nbformat_minor": 2
}
